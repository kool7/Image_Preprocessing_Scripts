{
  "nbformat": 4,
  "nbformat_minor": 0,
  "metadata": {
    "colab": {
      "name": "Download_Kaggle_Data_Colab.ipynb",
      "provenance": [],
      "authorship_tag": "ABX9TyPowS5/QBSFIx42SSTGGoK7"
    },
    "kernelspec": {
      "name": "python3",
      "display_name": "Python 3"
    }
  },
  "cells": [
    {
      "cell_type": "markdown",
      "metadata": {
        "id": "j-5wH8j8iLv_",
        "colab_type": "text"
      },
      "source": [
        "# How to download datasets from kaggle without losing single byte of your own data."
      ]
    },
    {
      "cell_type": "code",
      "metadata": {
        "id": "q6u5nCSwgME_",
        "colab_type": "code",
        "colab": {}
      },
      "source": [
        "import os"
      ],
      "execution_count": null,
      "outputs": []
    },
    {
      "cell_type": "markdown",
      "metadata": {
        "id": "i8e8CVD5idhD",
        "colab_type": "text"
      },
      "source": [
        "We will download kaggle dataset in our machine where colab instance is running. This will download dataset withour even using network connection. Great isn't it! Follow this link [here](https://www.kaggle.com/c/deepfake-detection-challenge/discussion/121194#693924).\n",
        "\n",
        "\n",
        "\n",
        "*   Add [CurlWget](https://chrome.google.com/webstore/detail/curlwget/jmocjfidanebdlinpbcdkcmgdifblncg) extension.\n",
        "\n",
        "*  Click on download button inside **Data** section of kaggle.\n",
        "\n",
        "*  Data will start downloading. Click on [CurlWget](https://chrome.google.com/webstore/detail/curlwget/jmocjfidanebdlinpbcdkcmgdifblncg) extension at top of your browser and copy the link.\n",
        "\n",
        "*  Cancel download.\n",
        "\n",
        "*  paste the link in code block of your colab notebook. Before that specify the **download** location and unzip it. (COLAB INSTANCE)\n",
        "\n",
        "**[NOTE]** Data may lose if you close the colab instance. This code will save the data in local boot drive."
      ]
    },
    {
      "cell_type": "code",
      "metadata": {
        "id": "mnv_7ZL2ieHW",
        "colab_type": "code",
        "colab": {}
      },
      "source": [
        "os.makedirs('/content/sample_data/Chexnex/Tuberculosis/', exist_ok=True)\n",
        "os.chdir('/content/sample_data/Chexnex/Tuberculosis/')\n",
        "\n",
        "!wget --header=\"Host: storage.googleapis.com\" --header=\"User-Agent: Mozilla/5.0 (Windows NT 10.0; Win64; x64) AppleWebKit/537.36 (KHTML, like Gecko) Chrome/83.0.4103.116 Safari/537.36\" --header=\"Accept: text/html,application/xhtml+xml,application/xml;q=0.9,image/webp,image/apng,*/*;q=0.8,application/signed-exchange;v=b3;q=0.9\" --header=\"Accept-Language: en-US,en;q=0.9\" --header=\"Referer: https://www.kaggle.com/\" \"https://storage.googleapis.com/kaggle-data-sets/524890%2F963129%2Fbundle%2Farchive.zip?GoogleAccessId=gcp-kaggle-com@kaggle-161607.iam.gserviceaccount.com&Expires=1593178110&Signature=J9BkpecNB52hfi7ngneE0MJoHrMdDWeZ2wvNZMQSEqo%2BvcYeYn3HT%2B9%2Bxu%2F66oRxZ%2BbiR888%2B5tbHk7LjZ3FqSgv4RPsgnOVwtf4Z1UQ%2Fe0TY37UjhyDRwAmPTbBCyoZpd7Y4DoA%2FR%2F85zV1BXnLTBBFeMXawnLWDbb9EwxckhLwbZcsj5cQMezDay2ie8UMSoq5WAkYg2n%2FgeL4OYkoHb69kthUQPQ%2BTJxcg9CNClxo9WAOc8EygwZ1X8oEv9IA7p9pPqTMqQcYbYLeLBnBxQevYtQA3%2B5C215KcOYHPAz6E3glGAaaRaMfwOhlAPst%2FwWHj3xaFX%2B2gvMiGqDjPw%3D%3D\" -c -O '524890_963129_bundle_archive.zip'\n",
        "!unzip ./524890_963129_bundle_archive.zip"
      ],
      "execution_count": null,
      "outputs": []
    }
  ]
}