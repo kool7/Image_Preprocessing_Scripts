{
 "cells": [
  {
   "cell_type": "code",
   "execution_count": null,
   "metadata": {},
   "outputs": [],
   "source": [
    "# Loading packages\n",
    "\n",
    "import os\n",
    "import cv2\n",
    "import glob\n",
    "import shutil\n",
    "import imgaug as ia\n",
    "from pathlib import Path\n",
    "import matplotlib.pyplot as plt\n",
    "from imgaug import augmenters as iaa\n",
    "\n",
    "%matplotlib inline"
   ]
  },
  {
   "cell_type": "code",
   "execution_count": null,
   "metadata": {},
   "outputs": [],
   "source": [
    "# Defining path\n",
    "\n",
    "OUTPUT_AUG_DIR = 'D:\\\\Projects\\\\Covid19\\\\data\\\\train\\\\OTHERS_AUG\\\\'"
   ]
  },
  {
   "cell_type": "code",
   "execution_count": null,
   "metadata": {},
   "outputs": [],
   "source": [
    "ia.seed(7)"
   ]
  },
  {
   "cell_type": "code",
   "execution_count": null,
   "metadata": {},
   "outputs": [],
   "source": [
    "# Transformation (Apply one by one.)\n",
    "\n",
    "seq = iaa.Affine(rotate=5)\n",
    "seq = iaa.AdditiveGaussianNoise(loc=0, scale=(0.0, 0.05*255), per_channel=0.5)\n",
    "seq = iaa.Multiply((0.5, 1.5), per_channel=0.5)\n",
    "seq = iaa.Add((-10, 10), per_channel=0.5)"
   ]
  },
  {
   "cell_type": "code",
   "execution_count": null,
   "metadata": {},
   "outputs": [],
   "source": [
    "for image in glob.glob(\"D:\\\\Projects\\\\Covid19\\\\data\\\\train\\\\OTHERS\\\\*.png\"):    # input dir\n",
    "    print(image)\n",
    "    img = cv2.imread(image)\n",
    "    image = image.split('\\\\')[-1]\n",
    "    print(image)\n",
    "    seq_det = seq.to_deterministic()\n",
    "    image_aug = seq_det.augment_images([img])[0]\n",
    "    cv2.imwrite(OUTPUT_AUG_DIR + 'AdditiveGaussianNoise' + image, image_aug)"
   ]
  }
 ],
 "metadata": {
  "kernelspec": {
   "display_name": "Python 3",
   "language": "python",
   "name": "python3"
  },
  "language_info": {
   "codemirror_mode": {
    "name": "ipython",
    "version": 3
   },
   "file_extension": ".py",
   "mimetype": "text/x-python",
   "name": "python",
   "nbconvert_exporter": "python",
   "pygments_lexer": "ipython3",
   "version": "3.7.4"
  }
 },
 "nbformat": 4,
 "nbformat_minor": 4
}
