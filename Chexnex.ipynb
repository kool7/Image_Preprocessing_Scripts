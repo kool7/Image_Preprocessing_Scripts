{
  "nbformat": 4,
  "nbformat_minor": 0,
  "metadata": {
    "colab": {
      "name": "Chexnex.ipynb",
      "provenance": [],
      "toc_visible": true,
      "mount_file_id": "1kpMAbkhUwPDF16cezDZG1Lkc3o-ju1fM",
      "authorship_tag": "ABX9TyO+0vVo9viTR6pxE2tVvy4V"
    },
    "kernelspec": {
      "name": "python3",
      "display_name": "Python 3"
    },
    "accelerator": "GPU"
  },
  "cells": [
    {
      "cell_type": "markdown",
      "metadata": {
        "id": "gMvKeu7cuhi5",
        "colab_type": "text"
      },
      "source": [
        "## Download Kaggle Dataset without losing 1 byte"
      ]
    },
    {
      "cell_type": "code",
      "metadata": {
        "id": "YwKegI_kYYOL",
        "colab_type": "code",
        "colab": {}
      },
      "source": [
        "import os\n",
        "import shutil\n",
        "import glob\n",
        "from PIL import Image, ImageFile\n",
        "from tqdm import tqdm\n",
        "import pandas as pd\n",
        "import numpy as np\n",
        "import matplotlib.pyplot as plt"
      ],
      "execution_count": 79,
      "outputs": []
    },
    {
      "cell_type": "markdown",
      "metadata": {
        "id": "dTlNsMCivJG8",
        "colab_type": "text"
      },
      "source": [
        "We will download kaggle dataset in our machine where colab instance is running. This will download dataset withour even using network connection. Great isn't it! Follow this link [here](https://www.kaggle.com/c/deepfake-detection-challenge/discussion/121194#693924)."
      ]
    },
    {
      "cell_type": "code",
      "metadata": {
        "id": "bXqaa7lhS_Mf",
        "colab_type": "code",
        "colab": {}
      },
      "source": [
        "# os.makedirs('/content/sample_data/Chexnex/Tuberculosis/', exist_ok=True)\n",
        "# os.chdir('/content/sample_data/Chexnex/Tuberculosis/')\n",
        "\n",
        "# !wget --header=\"Host: storage.googleapis.com\" --header=\"User-Agent: Mozilla/5.0 (Windows NT 10.0; Win64; x64) AppleWebKit/537.36 (KHTML, like Gecko) Chrome/83.0.4103.116 Safari/537.36\" --header=\"Accept: text/html,application/xhtml+xml,application/xml;q=0.9,image/webp,image/apng,*/*;q=0.8,application/signed-exchange;v=b3;q=0.9\" --header=\"Accept-Language: en-US,en;q=0.9\" --header=\"Referer: https://www.kaggle.com/\" \"https://storage.googleapis.com/kaggle-data-sets/524890%2F963129%2Fbundle%2Farchive.zip?GoogleAccessId=gcp-kaggle-com@kaggle-161607.iam.gserviceaccount.com&Expires=1593178110&Signature=J9BkpecNB52hfi7ngneE0MJoHrMdDWeZ2wvNZMQSEqo%2BvcYeYn3HT%2B9%2Bxu%2F66oRxZ%2BbiR888%2B5tbHk7LjZ3FqSgv4RPsgnOVwtf4Z1UQ%2Fe0TY37UjhyDRwAmPTbBCyoZpd7Y4DoA%2FR%2F85zV1BXnLTBBFeMXawnLWDbb9EwxckhLwbZcsj5cQMezDay2ie8UMSoq5WAkYg2n%2FgeL4OYkoHb69kthUQPQ%2BTJxcg9CNClxo9WAOc8EygwZ1X8oEv9IA7p9pPqTMqQcYbYLeLBnBxQevYtQA3%2B5C215KcOYHPAz6E3glGAaaRaMfwOhlAPst%2FwWHj3xaFX%2B2gvMiGqDjPw%3D%3D\" -c -O '524890_963129_bundle_archive.zip'"
      ],
      "execution_count": null,
      "outputs": []
    },
    {
      "cell_type": "code",
      "metadata": {
        "id": "oZQyf0h0YmeE",
        "colab_type": "code",
        "colab": {}
      },
      "source": [
        "# !unzip ./524890_963129_bundle_archive.zip"
      ],
      "execution_count": null,
      "outputs": []
    },
    {
      "cell_type": "code",
      "metadata": {
        "id": "x0L7uoe5ZHk9",
        "colab_type": "code",
        "colab": {}
      },
      "source": [
        "# os.makedirs('/content/sample_data/Chexnex/Pneumonia/', exist_ok=True)\n",
        "# os.chdir('/content/sample_data/Chexnex/Pneumonia/')\n",
        "\n",
        "# !wget --header=\"Host: storage.googleapis.com\" --header=\"User-Agent: Mozilla/5.0 (Windows NT 10.0; Win64; x64) AppleWebKit/537.36 (KHTML, like Gecko) Chrome/83.0.4103.116 Safari/537.36\" --header=\"Accept: text/html,application/xhtml+xml,application/xml;q=0.9,image/webp,image/apng,*/*;q=0.8,application/signed-exchange;v=b3;q=0.9\" --header=\"Accept-Language: en-US,en;q=0.9\" --header=\"Referer: https://www.kaggle.com/\" \"https://storage.googleapis.com/kaggle-data-sets/17810%2F23812%2Fbundle%2Farchive.zip?GoogleAccessId=gcp-kaggle-com@kaggle-161607.iam.gserviceaccount.com&Expires=1593178693&Signature=fatGvKTxp%2Bp2wEIPynIzxfq%2BlcxTultQDE5MVjzKCsgMIAJW6GifPAyrOErJPoAEa6naI89u3GS38JuHnvwbtznQ%2BAd8Zfoc1mpHx3cpjSoUvCkBuOp9pwDuVyVZHvPtLMeaGKZGH%2F1mx9cbAYs3uZi7zP38O%2FUmMyuyWdTlV0XJx9LtxzdTb9A6jNqz35rBKStEURMqXZzLMb9GIvHkPvpSWkhw8MkdWbYVULyCSmu7tObojIxdFYCDtEkqh3cTZ2YNu9zZ%2BlGxU6JSJomc%2FJRdfoi8qjFZxD4rFYCRWB42NXRNaBRxKgPu9K9tiEACrZMowu8G3QTCXlQWhWhx3w%3D%3D\" -c -O '17810_23812_bundle_archive.zip'\n",
        "# !unzip ./17810_23812_bundle_archive.zip"
      ],
      "execution_count": null,
      "outputs": []
    },
    {
      "cell_type": "code",
      "metadata": {
        "id": "V9wuuc7kaMwm",
        "colab_type": "code",
        "colab": {}
      },
      "source": [
        "os.chdir('/content/sample_data/Chexnex/')"
      ],
      "execution_count": null,
      "outputs": []
    },
    {
      "cell_type": "code",
      "metadata": {
        "id": "YeVxyIyHZyBK",
        "colab_type": "code",
        "colab": {
          "base_uri": "https://localhost:8080/",
          "height": 50
        },
        "outputId": "8559f2e1-1341-4bc1-fb12-7ea368517515"
      },
      "source": [
        "!ls"
      ],
      "execution_count": 68,
      "outputs": [
        {
          "output_type": "stream",
          "text": [
            " ChestXRay   Cropped.zip   Images  'Number Plate'   Tuberculosis\n",
            " ChextXray   healthy\t   Normal   png\n"
          ],
          "name": "stdout"
        }
      ]
    },
    {
      "cell_type": "code",
      "metadata": {
        "id": "QFH8l8nIaV7w",
        "colab_type": "code",
        "colab": {}
      },
      "source": [
        "tuberculosis = 'Tuberculosis/shenzhen_metadata.csv'\n",
        "tb = pd.read_csv(tuberculosis)\n",
        "tb"
      ],
      "execution_count": null,
      "outputs": []
    },
    {
      "cell_type": "code",
      "metadata": {
        "id": "m07k8CBBbg4l",
        "colab_type": "code",
        "colab": {}
      },
      "source": [
        "tb_hai = tb['findings'] != 'normal'"
      ],
      "execution_count": null,
      "outputs": []
    },
    {
      "cell_type": "code",
      "metadata": {
        "id": "jROV5yHok0uF",
        "colab_type": "code",
        "colab": {}
      },
      "source": [
        "tb = tb[tb_hai]"
      ],
      "execution_count": null,
      "outputs": []
    },
    {
      "cell_type": "code",
      "metadata": {
        "id": "msWn6W0Plx93",
        "colab_type": "code",
        "colab": {
          "base_uri": "https://localhost:8080/",
          "height": 402
        },
        "outputId": "691d66c1-339e-4f09-a5ba-81d20470ce8e"
      },
      "source": [
        "tb"
      ],
      "execution_count": null,
      "outputs": [
        {
          "output_type": "execute_result",
          "data": {
            "text/html": [
              "<div>\n",
              "<style scoped>\n",
              "    .dataframe tbody tr th:only-of-type {\n",
              "        vertical-align: middle;\n",
              "    }\n",
              "\n",
              "    .dataframe tbody tr th {\n",
              "        vertical-align: top;\n",
              "    }\n",
              "\n",
              "    .dataframe thead th {\n",
              "        text-align: right;\n",
              "    }\n",
              "</style>\n",
              "<table border=\"1\" class=\"dataframe\">\n",
              "  <thead>\n",
              "    <tr style=\"text-align: right;\">\n",
              "      <th></th>\n",
              "      <th>study_id</th>\n",
              "      <th>sex</th>\n",
              "      <th>age</th>\n",
              "      <th>findings</th>\n",
              "    </tr>\n",
              "  </thead>\n",
              "  <tbody>\n",
              "    <tr>\n",
              "      <th>326</th>\n",
              "      <td>CHNCXR_0327_1.png</td>\n",
              "      <td>Male</td>\n",
              "      <td>28</td>\n",
              "      <td>STB</td>\n",
              "    </tr>\n",
              "    <tr>\n",
              "      <th>327</th>\n",
              "      <td>CHNCXR_0328_1.png</td>\n",
              "      <td>Female</td>\n",
              "      <td>40</td>\n",
              "      <td>STB</td>\n",
              "    </tr>\n",
              "    <tr>\n",
              "      <th>328</th>\n",
              "      <td>CHNCXR_0329_1.png</td>\n",
              "      <td>Female</td>\n",
              "      <td>40</td>\n",
              "      <td>TB</td>\n",
              "    </tr>\n",
              "    <tr>\n",
              "      <th>329</th>\n",
              "      <td>CHNCXR_0330_1.png</td>\n",
              "      <td>Male</td>\n",
              "      <td>32</td>\n",
              "      <td>STB</td>\n",
              "    </tr>\n",
              "    <tr>\n",
              "      <th>330</th>\n",
              "      <td>CHNCXR_0331_1.png</td>\n",
              "      <td>Female</td>\n",
              "      <td>36</td>\n",
              "      <td>STB</td>\n",
              "    </tr>\n",
              "    <tr>\n",
              "      <th>...</th>\n",
              "      <td>...</td>\n",
              "      <td>...</td>\n",
              "      <td>...</td>\n",
              "      <td>...</td>\n",
              "    </tr>\n",
              "    <tr>\n",
              "      <th>657</th>\n",
              "      <td>CHNCXR_0658_1.png</td>\n",
              "      <td>Male</td>\n",
              "      <td>41</td>\n",
              "      <td>bilateral secondary PTB  with right pneumothorax</td>\n",
              "    </tr>\n",
              "    <tr>\n",
              "      <th>658</th>\n",
              "      <td>CHNCXR_0659_1.png</td>\n",
              "      <td>Male</td>\n",
              "      <td>33</td>\n",
              "      <td>secondary PTB  in the left upper field</td>\n",
              "    </tr>\n",
              "    <tr>\n",
              "      <th>659</th>\n",
              "      <td>CHNCXR_0660_1.png</td>\n",
              "      <td>Male</td>\n",
              "      <td>50</td>\n",
              "      <td>1.bilateral secondary PTB  with right upper at...</td>\n",
              "    </tr>\n",
              "    <tr>\n",
              "      <th>660</th>\n",
              "      <td>CHNCXR_0661_1.png</td>\n",
              "      <td>Male</td>\n",
              "      <td>26</td>\n",
              "      <td>bilateral secondary PTB  with right pleural th...</td>\n",
              "    </tr>\n",
              "    <tr>\n",
              "      <th>661</th>\n",
              "      <td>CHNCXR_0662_1.png</td>\n",
              "      <td>Male</td>\n",
              "      <td>32</td>\n",
              "      <td>secondary PTB  in the right upper field</td>\n",
              "    </tr>\n",
              "  </tbody>\n",
              "</table>\n",
              "<p>336 rows × 4 columns</p>\n",
              "</div>"
            ],
            "text/plain": [
              "              study_id  ...                                           findings\n",
              "326  CHNCXR_0327_1.png  ...                                                STB\n",
              "327  CHNCXR_0328_1.png  ...                                                STB\n",
              "328  CHNCXR_0329_1.png  ...                                                 TB\n",
              "329  CHNCXR_0330_1.png  ...                                                STB\n",
              "330  CHNCXR_0331_1.png  ...                                                STB\n",
              "..                 ...  ...                                                ...\n",
              "657  CHNCXR_0658_1.png  ...   bilateral secondary PTB  with right pneumothorax\n",
              "658  CHNCXR_0659_1.png  ...             secondary PTB  in the left upper field\n",
              "659  CHNCXR_0660_1.png  ...  1.bilateral secondary PTB  with right upper at...\n",
              "660  CHNCXR_0661_1.png  ...  bilateral secondary PTB  with right pleural th...\n",
              "661  CHNCXR_0662_1.png  ...            secondary PTB  in the right upper field\n",
              "\n",
              "[336 rows x 4 columns]"
            ]
          },
          "metadata": {
            "tags": []
          },
          "execution_count": 42
        }
      ]
    },
    {
      "cell_type": "code",
      "metadata": {
        "id": "ydCIkz3Knydb",
        "colab_type": "code",
        "colab": {}
      },
      "source": [
        "tb_images = os.listdir('Tuberculosis/images/images/')"
      ],
      "execution_count": null,
      "outputs": []
    },
    {
      "cell_type": "code",
      "metadata": {
        "id": "angDr-Xos9jX",
        "colab_type": "code",
        "colab": {}
      },
      "source": [
        "destination = ('/content/drive/My Drive/data/Tuberculosis/')"
      ],
      "execution_count": null,
      "outputs": []
    },
    {
      "cell_type": "code",
      "metadata": {
        "id": "nVXyBVVRnJjL",
        "colab_type": "code",
        "colab": {}
      },
      "source": [
        "for img in tb.study_id:\n",
        "  if img in tb_images:\n",
        "    \n",
        "    shutil.copy(img, destination)"
      ],
      "execution_count": null,
      "outputs": []
    },
    {
      "cell_type": "code",
      "metadata": {
        "id": "1U4JEe57vTBs",
        "colab_type": "code",
        "colab": {}
      },
      "source": [
        "images = []"
      ],
      "execution_count": null,
      "outputs": []
    },
    {
      "cell_type": "code",
      "metadata": {
        "id": "yqGmBKMRutwM",
        "colab_type": "code",
        "colab": {}
      },
      "source": [
        "for img in tb.study_id:\n",
        "  if img in tb_images:\n",
        "    im = os.path.join('Tuberculosis/images/images/', img)\n",
        "    images.append(im)"
      ],
      "execution_count": null,
      "outputs": []
    },
    {
      "cell_type": "code",
      "metadata": {
        "id": "seeZ9ZlcvqmK",
        "colab_type": "code",
        "colab": {}
      },
      "source": [
        "for image in images:\n",
        "  shutil.copy(image, destination)"
      ],
      "execution_count": null,
      "outputs": []
    },
    {
      "cell_type": "code",
      "metadata": {
        "id": "PlXF-SPhvt4N",
        "colab_type": "code",
        "colab": {
          "base_uri": "https://localhost:8080/",
          "height": 34
        },
        "outputId": "f7f608c4-4c33-4e27-bac1-0a6a88b18e0b"
      },
      "source": [
        "len(os.listdir(destination))"
      ],
      "execution_count": null,
      "outputs": [
        {
          "output_type": "execute_result",
          "data": {
            "text/plain": [
              "336"
            ]
          },
          "metadata": {
            "tags": []
          },
          "execution_count": 67
        }
      ]
    },
    {
      "cell_type": "code",
      "metadata": {
        "id": "FSN5Wfy1xxMS",
        "colab_type": "code",
        "colab": {}
      },
      "source": [
        "for count, filename in enumerate(os.listdir(destination)):\n",
        "    root_ext = os.path.splitext(filename)\n",
        "    dst = \"TUBERCULOSIS_\" + str(count) + root_ext[1]\n",
        "    src = destination + filename\n",
        "    dst = destination + dst\n",
        "    os.rename(src, dst)"
      ],
      "execution_count": null,
      "outputs": []
    },
    {
      "cell_type": "markdown",
      "metadata": {
        "id": "bdfnTzlTwZjC",
        "colab_type": "text"
      },
      "source": [
        "# Fast image resize"
      ]
    },
    {
      "cell_type": "code",
      "metadata": {
        "id": "pIOGN4mwwa5S",
        "colab_type": "code",
        "colab": {}
      },
      "source": [
        "# os.makedirs('/content/drive/My Drive/data/Normal/', exist_ok=True)\n",
        "os.chdir('/content/drive/My Drive/data/')"
      ],
      "execution_count": null,
      "outputs": []
    },
    {
      "cell_type": "code",
      "metadata": {
        "id": "IkpjknpcV5w6",
        "colab_type": "code",
        "colab": {
          "base_uri": "https://localhost:8080/",
          "height": 50
        },
        "outputId": "74991313-29f1-4057-db90-cf8232af2c8d"
      },
      "source": [
        "!ls"
      ],
      "execution_count": null,
      "outputs": [
        {
          "output_type": "stream",
          "text": [
            " ChestXRay   Cropped.zip   Normal\t   Tuberculosis\n",
            " ChextXray   Images\t  'Number Plate'\n"
          ],
          "name": "stdout"
        }
      ]
    },
    {
      "cell_type": "code",
      "metadata": {
        "id": "tkEKT9_dQUR2",
        "colab_type": "code",
        "colab": {
          "base_uri": "https://localhost:8080/",
          "height": 34
        },
        "outputId": "0e422e00-69f5-4551-be4d-0f88c32e3de1"
      },
      "source": [
        "len(os.listdir('healthy/'))"
      ],
      "execution_count": null,
      "outputs": [
        {
          "output_type": "execute_result",
          "data": {
            "text/plain": [
              "1995"
            ]
          },
          "metadata": {
            "tags": []
          },
          "execution_count": 38
        }
      ]
    },
    {
      "cell_type": "code",
      "metadata": {
        "id": "SYwu8aGxHeyz",
        "colab_type": "code",
        "colab": {
          "base_uri": "https://localhost:8080/",
          "height": 34
        },
        "outputId": "bd113ee4-3cd3-4160-9ab6-18b95186eff2"
      },
      "source": [
        "for img in tqdm(os.listdir(\"healthy/\")):\n",
        "  shutil.copy(os.path.join('/content/drive/My Drive/data/healthy/',img), '/content/drive/My Drive/data/Normal/')"
      ],
      "execution_count": null,
      "outputs": [
        {
          "output_type": "stream",
          "text": [
            "100%|██████████| 1995/1995 [00:21<00:00, 92.13it/s]\n"
          ],
          "name": "stderr"
        }
      ]
    },
    {
      "cell_type": "code",
      "metadata": {
        "id": "4AANbR9gWcNR",
        "colab_type": "code",
        "colab": {
          "base_uri": "https://localhost:8080/",
          "height": 34
        },
        "outputId": "2dd545a2-1706-4300-b3f7-6e34427f6c53"
      },
      "source": [
        "len(os.listdir('Normal'))"
      ],
      "execution_count": null,
      "outputs": [
        {
          "output_type": "execute_result",
          "data": {
            "text/plain": [
              "1995"
            ]
          },
          "metadata": {
            "tags": []
          },
          "execution_count": 40
        }
      ]
    },
    {
      "cell_type": "code",
      "metadata": {
        "id": "lQpeQ9cKOq4Z",
        "colab_type": "code",
        "colab": {}
      },
      "source": [
        "dest = ('/content/drive/My Drive/data/Normal/')\n",
        "os.makedirs('/content/drive/My Drive/data/png')\n",
        "source = ('/content/drive/My Drive/data/png')"
      ],
      "execution_count": null,
      "outputs": []
    },
    {
      "cell_type": "code",
      "metadata": {
        "id": "wnGwudb-Hm8L",
        "colab_type": "code",
        "colab": {
          "base_uri": "https://localhost:8080/",
          "height": 34
        },
        "outputId": "9def335f-0931-4fe0-dd90-04bc314c6727"
      },
      "source": [
        "for count, filename in tqdm(enumerate(os.listdir(dest))):\n",
        "    root_ext = os.path.splitext(filename)\n",
        "    dst = \"Normal_\" + str(count) + root_ext[1]\n",
        "    src = dest + filename\n",
        "    dst = dest + dst\n",
        "    os.rename(src, dst)"
      ],
      "execution_count": null,
      "outputs": [
        {
          "output_type": "stream",
          "text": [
            "1996it [00:05, 333.05it/s]\n"
          ],
          "name": "stderr"
        }
      ]
    },
    {
      "cell_type": "code",
      "metadata": {
        "id": "wXlaVKlMSP0A",
        "colab_type": "code",
        "colab": {
          "base_uri": "https://localhost:8080/",
          "height": 34
        },
        "outputId": "0fc9987c-b479-40e1-b118-d0a089e0b8f1"
      },
      "source": [
        "for image in tqdm(glob.glob(\"/content/drive/My Drive/data/Normal/*.jpg\")):\n",
        "    im = Image.open(image)\n",
        "    im.save(image.replace(\"jpg\", \"png\"))"
      ],
      "execution_count": null,
      "outputs": [
        {
          "output_type": "stream",
          "text": [
            "100%|██████████| 1995/1995 [01:13<00:00, 27.13it/s]\n"
          ],
          "name": "stderr"
        }
      ]
    },
    {
      "cell_type": "code",
      "metadata": {
        "id": "tuO4pZ2wSbTr",
        "colab_type": "code",
        "colab": {
          "base_uri": "https://localhost:8080/",
          "height": 34
        },
        "outputId": "60a8a37d-d9cc-4fd6-f975-e56d58e878af"
      },
      "source": [
        "len(os.listdir(source))"
      ],
      "execution_count": 77,
      "outputs": [
        {
          "output_type": "execute_result",
          "data": {
            "text/plain": [
              "1995"
            ]
          },
          "metadata": {
            "tags": []
          },
          "execution_count": 77
        }
      ]
    },
    {
      "cell_type": "code",
      "metadata": {
        "id": "b8cG4Ow1b0N9",
        "colab_type": "code",
        "colab": {}
      },
      "source": [
        "for file in os.listdir(source):\n",
        "   if file.endswith('.jpg'):\n",
        "     os.remove(os.path.join('/content/drive/My Drive/data/png/', file))"
      ],
      "execution_count": 76,
      "outputs": []
    },
    {
      "cell_type": "code",
      "metadata": {
        "id": "MyOjLZkScH-h",
        "colab_type": "code",
        "colab": {}
      },
      "source": [
        "from joblib import Parallel, delayed\n",
        "\n",
        "ImageFile.LOAD_TRUNCATED_IMAGES = True"
      ],
      "execution_count": 80,
      "outputs": []
    },
    {
      "cell_type": "code",
      "metadata": {
        "id": "-Vp7Y5ANdeav",
        "colab_type": "code",
        "colab": {}
      },
      "source": [
        "# resizing function\n",
        "def fastResize(image_path, output_folder, resize):\n",
        "    basename = os.path.basename(image_path)\n",
        "    output = os.path.join(output_folder, basename)\n",
        "    image = Image.open(image_path)\n",
        "    image = image.resize((resize[1], resize[0]), resample = Image.BILINEAR)\n",
        "    image.save(output)"
      ],
      "execution_count": 81,
      "outputs": []
    },
    {
      "cell_type": "code",
      "metadata": {
        "id": "iOxIOKV-dlgF",
        "colab_type": "code",
        "colab": {}
      },
      "source": [
        "# defining path\n",
        "inputpath = source\n",
        "output = ('/content/drive/My Drive/data/Resized224x224/')\n",
        "images = glob.glob(os.path.join(inputpath, '*png'))"
      ],
      "execution_count": 82,
      "outputs": []
    },
    {
      "cell_type": "code",
      "metadata": {
        "id": "ky8Cik56d_GI",
        "colab_type": "code",
        "colab": {}
      },
      "source": [
        "# parallelize operation for speed up operation.\n",
        "Parallel(n_jobs=4)(\n",
        "    delayed(fastResize)(\n",
        "        i,\n",
        "        output,\n",
        "        (224, 224)\n",
        "    ) for i in tqdm(images)    \n",
        ")"
      ],
      "execution_count": null,
      "outputs": []
    },
    {
      "cell_type": "code",
      "metadata": {
        "id": "BUp7paGqeKPq",
        "colab_type": "code",
        "colab": {
          "base_uri": "https://localhost:8080/",
          "height": 34
        },
        "outputId": "6953f6a7-7583-4217-8dfc-6d5373c49e3d"
      },
      "source": [
        "len(os.listdir(output))"
      ],
      "execution_count": 85,
      "outputs": [
        {
          "output_type": "execute_result",
          "data": {
            "text/plain": [
              "1995"
            ]
          },
          "metadata": {
            "tags": []
          },
          "execution_count": 85
        }
      ]
    },
    {
      "cell_type": "code",
      "metadata": {
        "id": "awObQLrJeZcp",
        "colab_type": "code",
        "colab": {}
      },
      "source": [
        ""
      ],
      "execution_count": null,
      "outputs": []
    }
  ]
}