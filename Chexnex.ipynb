{
  "nbformat": 4,
  "nbformat_minor": 0,
  "metadata": {
    "colab": {
      "name": "Chexnex.ipynb",
      "provenance": [],
      "mount_file_id": "1kpMAbkhUwPDF16cezDZG1Lkc3o-ju1fM",
      "authorship_tag": "ABX9TyOsXz8CeV9Y30x/NDTHR4W5"
    },
    "kernelspec": {
      "name": "python3",
      "display_name": "Python 3"
    }
  },
  "cells": [
    {
      "cell_type": "code",
      "metadata": {
        "id": "YwKegI_kYYOL",
        "colab_type": "code",
        "colab": {}
      },
      "source": [
        "import os\n",
        "import shutil\n",
        "import pandas as pd\n",
        "import numpy as np\n",
        "import matplotlib.pyplot as plt"
      ],
      "execution_count": 51,
      "outputs": []
    },
    {
      "cell_type": "code",
      "metadata": {
        "id": "bXqaa7lhS_Mf",
        "colab_type": "code",
        "colab": {}
      },
      "source": [
        "# os.makedirs('/content/sample_data/Chexnex/Tuberculosis/', exist_ok=True)\n",
        "# os.chdir('/content/sample_data/Chexnex/Tuberculosis/')\n",
        "\n",
        "# !wget --header=\"Host: storage.googleapis.com\" --header=\"User-Agent: Mozilla/5.0 (Windows NT 10.0; Win64; x64) AppleWebKit/537.36 (KHTML, like Gecko) Chrome/83.0.4103.116 Safari/537.36\" --header=\"Accept: text/html,application/xhtml+xml,application/xml;q=0.9,image/webp,image/apng,*/*;q=0.8,application/signed-exchange;v=b3;q=0.9\" --header=\"Accept-Language: en-US,en;q=0.9\" --header=\"Referer: https://www.kaggle.com/\" \"https://storage.googleapis.com/kaggle-data-sets/524890%2F963129%2Fbundle%2Farchive.zip?GoogleAccessId=gcp-kaggle-com@kaggle-161607.iam.gserviceaccount.com&Expires=1593178110&Signature=J9BkpecNB52hfi7ngneE0MJoHrMdDWeZ2wvNZMQSEqo%2BvcYeYn3HT%2B9%2Bxu%2F66oRxZ%2BbiR888%2B5tbHk7LjZ3FqSgv4RPsgnOVwtf4Z1UQ%2Fe0TY37UjhyDRwAmPTbBCyoZpd7Y4DoA%2FR%2F85zV1BXnLTBBFeMXawnLWDbb9EwxckhLwbZcsj5cQMezDay2ie8UMSoq5WAkYg2n%2FgeL4OYkoHb69kthUQPQ%2BTJxcg9CNClxo9WAOc8EygwZ1X8oEv9IA7p9pPqTMqQcYbYLeLBnBxQevYtQA3%2B5C215KcOYHPAz6E3glGAaaRaMfwOhlAPst%2FwWHj3xaFX%2B2gvMiGqDjPw%3D%3D\" -c -O '524890_963129_bundle_archive.zip'"
      ],
      "execution_count": null,
      "outputs": []
    },
    {
      "cell_type": "code",
      "metadata": {
        "id": "oZQyf0h0YmeE",
        "colab_type": "code",
        "colab": {}
      },
      "source": [
        "# !unzip ./524890_963129_bundle_archive.zip"
      ],
      "execution_count": null,
      "outputs": []
    },
    {
      "cell_type": "code",
      "metadata": {
        "id": "x0L7uoe5ZHk9",
        "colab_type": "code",
        "colab": {}
      },
      "source": [
        "# os.makedirs('/content/sample_data/Chexnex/Pneumonia/', exist_ok=True)\n",
        "# os.chdir('/content/sample_data/Chexnex/Pneumonia/')\n",
        "\n",
        "# !wget --header=\"Host: storage.googleapis.com\" --header=\"User-Agent: Mozilla/5.0 (Windows NT 10.0; Win64; x64) AppleWebKit/537.36 (KHTML, like Gecko) Chrome/83.0.4103.116 Safari/537.36\" --header=\"Accept: text/html,application/xhtml+xml,application/xml;q=0.9,image/webp,image/apng,*/*;q=0.8,application/signed-exchange;v=b3;q=0.9\" --header=\"Accept-Language: en-US,en;q=0.9\" --header=\"Referer: https://www.kaggle.com/\" \"https://storage.googleapis.com/kaggle-data-sets/17810%2F23812%2Fbundle%2Farchive.zip?GoogleAccessId=gcp-kaggle-com@kaggle-161607.iam.gserviceaccount.com&Expires=1593178693&Signature=fatGvKTxp%2Bp2wEIPynIzxfq%2BlcxTultQDE5MVjzKCsgMIAJW6GifPAyrOErJPoAEa6naI89u3GS38JuHnvwbtznQ%2BAd8Zfoc1mpHx3cpjSoUvCkBuOp9pwDuVyVZHvPtLMeaGKZGH%2F1mx9cbAYs3uZi7zP38O%2FUmMyuyWdTlV0XJx9LtxzdTb9A6jNqz35rBKStEURMqXZzLMb9GIvHkPvpSWkhw8MkdWbYVULyCSmu7tObojIxdFYCDtEkqh3cTZ2YNu9zZ%2BlGxU6JSJomc%2FJRdfoi8qjFZxD4rFYCRWB42NXRNaBRxKgPu9K9tiEACrZMowu8G3QTCXlQWhWhx3w%3D%3D\" -c -O '17810_23812_bundle_archive.zip'\n",
        "# !unzip ./17810_23812_bundle_archive.zip"
      ],
      "execution_count": null,
      "outputs": []
    },
    {
      "cell_type": "code",
      "metadata": {
        "id": "V9wuuc7kaMwm",
        "colab_type": "code",
        "colab": {}
      },
      "source": [
        "os.chdir('/content/sample_data/Chexnex/')"
      ],
      "execution_count": 36,
      "outputs": []
    },
    {
      "cell_type": "code",
      "metadata": {
        "id": "YeVxyIyHZyBK",
        "colab_type": "code",
        "colab": {
          "base_uri": "https://localhost:8080/",
          "height": 34
        },
        "outputId": "132252ed-5fb3-42d1-9ebb-8fc7211bb2d9"
      },
      "source": [
        "!ls"
      ],
      "execution_count": 37,
      "outputs": [
        {
          "output_type": "stream",
          "text": [
            "Pneumonia  Tuberculosis\n"
          ],
          "name": "stdout"
        }
      ]
    },
    {
      "cell_type": "code",
      "metadata": {
        "id": "QFH8l8nIaV7w",
        "colab_type": "code",
        "colab": {}
      },
      "source": [
        "tuberculosis = 'Tuberculosis/shenzhen_metadata.csv'\n",
        "\n",
        "tb = pd.read_csv(tuberculosis)"
      ],
      "execution_count": 38,
      "outputs": []
    },
    {
      "cell_type": "code",
      "metadata": {
        "id": "zekoNZeAbgJq",
        "colab_type": "code",
        "colab": {
          "base_uri": "https://localhost:8080/",
          "height": 402
        },
        "outputId": "d9569714-5a1d-4925-e04f-f27f71b7e7e2"
      },
      "source": [
        "tb"
      ],
      "execution_count": 39,
      "outputs": [
        {
          "output_type": "execute_result",
          "data": {
            "text/html": [
              "<div>\n",
              "<style scoped>\n",
              "    .dataframe tbody tr th:only-of-type {\n",
              "        vertical-align: middle;\n",
              "    }\n",
              "\n",
              "    .dataframe tbody tr th {\n",
              "        vertical-align: top;\n",
              "    }\n",
              "\n",
              "    .dataframe thead th {\n",
              "        text-align: right;\n",
              "    }\n",
              "</style>\n",
              "<table border=\"1\" class=\"dataframe\">\n",
              "  <thead>\n",
              "    <tr style=\"text-align: right;\">\n",
              "      <th></th>\n",
              "      <th>study_id</th>\n",
              "      <th>sex</th>\n",
              "      <th>age</th>\n",
              "      <th>findings</th>\n",
              "    </tr>\n",
              "  </thead>\n",
              "  <tbody>\n",
              "    <tr>\n",
              "      <th>0</th>\n",
              "      <td>CHNCXR_0001_0.png</td>\n",
              "      <td>Male</td>\n",
              "      <td>45</td>\n",
              "      <td>normal</td>\n",
              "    </tr>\n",
              "    <tr>\n",
              "      <th>1</th>\n",
              "      <td>CHNCXR_0002_0.png</td>\n",
              "      <td>Male</td>\n",
              "      <td>63</td>\n",
              "      <td>normal</td>\n",
              "    </tr>\n",
              "    <tr>\n",
              "      <th>2</th>\n",
              "      <td>CHNCXR_0003_0.png</td>\n",
              "      <td>Female</td>\n",
              "      <td>48</td>\n",
              "      <td>normal</td>\n",
              "    </tr>\n",
              "    <tr>\n",
              "      <th>3</th>\n",
              "      <td>CHNCXR_0004_0.png</td>\n",
              "      <td>Male</td>\n",
              "      <td>58</td>\n",
              "      <td>normal</td>\n",
              "    </tr>\n",
              "    <tr>\n",
              "      <th>4</th>\n",
              "      <td>CHNCXR_0005_0.png</td>\n",
              "      <td>Male</td>\n",
              "      <td>28</td>\n",
              "      <td>normal</td>\n",
              "    </tr>\n",
              "    <tr>\n",
              "      <th>...</th>\n",
              "      <td>...</td>\n",
              "      <td>...</td>\n",
              "      <td>...</td>\n",
              "      <td>...</td>\n",
              "    </tr>\n",
              "    <tr>\n",
              "      <th>657</th>\n",
              "      <td>CHNCXR_0658_1.png</td>\n",
              "      <td>Male</td>\n",
              "      <td>41</td>\n",
              "      <td>bilateral secondary PTB  with right pneumothorax</td>\n",
              "    </tr>\n",
              "    <tr>\n",
              "      <th>658</th>\n",
              "      <td>CHNCXR_0659_1.png</td>\n",
              "      <td>Male</td>\n",
              "      <td>33</td>\n",
              "      <td>secondary PTB  in the left upper field</td>\n",
              "    </tr>\n",
              "    <tr>\n",
              "      <th>659</th>\n",
              "      <td>CHNCXR_0660_1.png</td>\n",
              "      <td>Male</td>\n",
              "      <td>50</td>\n",
              "      <td>1.bilateral secondary PTB  with right upper at...</td>\n",
              "    </tr>\n",
              "    <tr>\n",
              "      <th>660</th>\n",
              "      <td>CHNCXR_0661_1.png</td>\n",
              "      <td>Male</td>\n",
              "      <td>26</td>\n",
              "      <td>bilateral secondary PTB  with right pleural th...</td>\n",
              "    </tr>\n",
              "    <tr>\n",
              "      <th>661</th>\n",
              "      <td>CHNCXR_0662_1.png</td>\n",
              "      <td>Male</td>\n",
              "      <td>32</td>\n",
              "      <td>secondary PTB  in the right upper field</td>\n",
              "    </tr>\n",
              "  </tbody>\n",
              "</table>\n",
              "<p>662 rows × 4 columns</p>\n",
              "</div>"
            ],
            "text/plain": [
              "              study_id  ...                                           findings\n",
              "0    CHNCXR_0001_0.png  ...                                             normal\n",
              "1    CHNCXR_0002_0.png  ...                                             normal\n",
              "2    CHNCXR_0003_0.png  ...                                             normal\n",
              "3    CHNCXR_0004_0.png  ...                                             normal\n",
              "4    CHNCXR_0005_0.png  ...                                             normal\n",
              "..                 ...  ...                                                ...\n",
              "657  CHNCXR_0658_1.png  ...   bilateral secondary PTB  with right pneumothorax\n",
              "658  CHNCXR_0659_1.png  ...             secondary PTB  in the left upper field\n",
              "659  CHNCXR_0660_1.png  ...  1.bilateral secondary PTB  with right upper at...\n",
              "660  CHNCXR_0661_1.png  ...  bilateral secondary PTB  with right pleural th...\n",
              "661  CHNCXR_0662_1.png  ...            secondary PTB  in the right upper field\n",
              "\n",
              "[662 rows x 4 columns]"
            ]
          },
          "metadata": {
            "tags": []
          },
          "execution_count": 39
        }
      ]
    },
    {
      "cell_type": "code",
      "metadata": {
        "id": "m07k8CBBbg4l",
        "colab_type": "code",
        "colab": {}
      },
      "source": [
        "tb_hai = tb['findings'] != 'normal'"
      ],
      "execution_count": 40,
      "outputs": []
    },
    {
      "cell_type": "code",
      "metadata": {
        "id": "jROV5yHok0uF",
        "colab_type": "code",
        "colab": {}
      },
      "source": [
        "tb = tb[tb_hai]"
      ],
      "execution_count": 41,
      "outputs": []
    },
    {
      "cell_type": "code",
      "metadata": {
        "id": "msWn6W0Plx93",
        "colab_type": "code",
        "colab": {
          "base_uri": "https://localhost:8080/",
          "height": 402
        },
        "outputId": "691d66c1-339e-4f09-a5ba-81d20470ce8e"
      },
      "source": [
        "tb"
      ],
      "execution_count": 42,
      "outputs": [
        {
          "output_type": "execute_result",
          "data": {
            "text/html": [
              "<div>\n",
              "<style scoped>\n",
              "    .dataframe tbody tr th:only-of-type {\n",
              "        vertical-align: middle;\n",
              "    }\n",
              "\n",
              "    .dataframe tbody tr th {\n",
              "        vertical-align: top;\n",
              "    }\n",
              "\n",
              "    .dataframe thead th {\n",
              "        text-align: right;\n",
              "    }\n",
              "</style>\n",
              "<table border=\"1\" class=\"dataframe\">\n",
              "  <thead>\n",
              "    <tr style=\"text-align: right;\">\n",
              "      <th></th>\n",
              "      <th>study_id</th>\n",
              "      <th>sex</th>\n",
              "      <th>age</th>\n",
              "      <th>findings</th>\n",
              "    </tr>\n",
              "  </thead>\n",
              "  <tbody>\n",
              "    <tr>\n",
              "      <th>326</th>\n",
              "      <td>CHNCXR_0327_1.png</td>\n",
              "      <td>Male</td>\n",
              "      <td>28</td>\n",
              "      <td>STB</td>\n",
              "    </tr>\n",
              "    <tr>\n",
              "      <th>327</th>\n",
              "      <td>CHNCXR_0328_1.png</td>\n",
              "      <td>Female</td>\n",
              "      <td>40</td>\n",
              "      <td>STB</td>\n",
              "    </tr>\n",
              "    <tr>\n",
              "      <th>328</th>\n",
              "      <td>CHNCXR_0329_1.png</td>\n",
              "      <td>Female</td>\n",
              "      <td>40</td>\n",
              "      <td>TB</td>\n",
              "    </tr>\n",
              "    <tr>\n",
              "      <th>329</th>\n",
              "      <td>CHNCXR_0330_1.png</td>\n",
              "      <td>Male</td>\n",
              "      <td>32</td>\n",
              "      <td>STB</td>\n",
              "    </tr>\n",
              "    <tr>\n",
              "      <th>330</th>\n",
              "      <td>CHNCXR_0331_1.png</td>\n",
              "      <td>Female</td>\n",
              "      <td>36</td>\n",
              "      <td>STB</td>\n",
              "    </tr>\n",
              "    <tr>\n",
              "      <th>...</th>\n",
              "      <td>...</td>\n",
              "      <td>...</td>\n",
              "      <td>...</td>\n",
              "      <td>...</td>\n",
              "    </tr>\n",
              "    <tr>\n",
              "      <th>657</th>\n",
              "      <td>CHNCXR_0658_1.png</td>\n",
              "      <td>Male</td>\n",
              "      <td>41</td>\n",
              "      <td>bilateral secondary PTB  with right pneumothorax</td>\n",
              "    </tr>\n",
              "    <tr>\n",
              "      <th>658</th>\n",
              "      <td>CHNCXR_0659_1.png</td>\n",
              "      <td>Male</td>\n",
              "      <td>33</td>\n",
              "      <td>secondary PTB  in the left upper field</td>\n",
              "    </tr>\n",
              "    <tr>\n",
              "      <th>659</th>\n",
              "      <td>CHNCXR_0660_1.png</td>\n",
              "      <td>Male</td>\n",
              "      <td>50</td>\n",
              "      <td>1.bilateral secondary PTB  with right upper at...</td>\n",
              "    </tr>\n",
              "    <tr>\n",
              "      <th>660</th>\n",
              "      <td>CHNCXR_0661_1.png</td>\n",
              "      <td>Male</td>\n",
              "      <td>26</td>\n",
              "      <td>bilateral secondary PTB  with right pleural th...</td>\n",
              "    </tr>\n",
              "    <tr>\n",
              "      <th>661</th>\n",
              "      <td>CHNCXR_0662_1.png</td>\n",
              "      <td>Male</td>\n",
              "      <td>32</td>\n",
              "      <td>secondary PTB  in the right upper field</td>\n",
              "    </tr>\n",
              "  </tbody>\n",
              "</table>\n",
              "<p>336 rows × 4 columns</p>\n",
              "</div>"
            ],
            "text/plain": [
              "              study_id  ...                                           findings\n",
              "326  CHNCXR_0327_1.png  ...                                                STB\n",
              "327  CHNCXR_0328_1.png  ...                                                STB\n",
              "328  CHNCXR_0329_1.png  ...                                                 TB\n",
              "329  CHNCXR_0330_1.png  ...                                                STB\n",
              "330  CHNCXR_0331_1.png  ...                                                STB\n",
              "..                 ...  ...                                                ...\n",
              "657  CHNCXR_0658_1.png  ...   bilateral secondary PTB  with right pneumothorax\n",
              "658  CHNCXR_0659_1.png  ...             secondary PTB  in the left upper field\n",
              "659  CHNCXR_0660_1.png  ...  1.bilateral secondary PTB  with right upper at...\n",
              "660  CHNCXR_0661_1.png  ...  bilateral secondary PTB  with right pleural th...\n",
              "661  CHNCXR_0662_1.png  ...            secondary PTB  in the right upper field\n",
              "\n",
              "[336 rows x 4 columns]"
            ]
          },
          "metadata": {
            "tags": []
          },
          "execution_count": 42
        }
      ]
    },
    {
      "cell_type": "code",
      "metadata": {
        "id": "ydCIkz3Knydb",
        "colab_type": "code",
        "colab": {}
      },
      "source": [
        "tb_images = os.listdir('Tuberculosis/images/images/')"
      ],
      "execution_count": 47,
      "outputs": []
    },
    {
      "cell_type": "code",
      "metadata": {
        "id": "angDr-Xos9jX",
        "colab_type": "code",
        "colab": {}
      },
      "source": [
        "destination = ('/content/drive/My Drive/data/Tuberculosis')"
      ],
      "execution_count": 63,
      "outputs": []
    },
    {
      "cell_type": "code",
      "metadata": {
        "id": "nVXyBVVRnJjL",
        "colab_type": "code",
        "colab": {}
      },
      "source": [
        "for img in tb.study_id:\n",
        "  if img in tb_images:\n",
        "    \n",
        "    shutil.copy(img, destination)"
      ],
      "execution_count": null,
      "outputs": []
    },
    {
      "cell_type": "code",
      "metadata": {
        "id": "1U4JEe57vTBs",
        "colab_type": "code",
        "colab": {}
      },
      "source": [
        "images = []"
      ],
      "execution_count": 57,
      "outputs": []
    },
    {
      "cell_type": "code",
      "metadata": {
        "id": "yqGmBKMRutwM",
        "colab_type": "code",
        "colab": {}
      },
      "source": [
        "for img in tb.study_id:\n",
        "  if img in tb_images:\n",
        "    im = os.path.join('Tuberculosis/images/images/', img)\n",
        "    images.append(im)"
      ],
      "execution_count": 58,
      "outputs": []
    },
    {
      "cell_type": "code",
      "metadata": {
        "id": "seeZ9ZlcvqmK",
        "colab_type": "code",
        "colab": {}
      },
      "source": [
        "for image in images:\n",
        "  shutil.copy(image, destination)"
      ],
      "execution_count": 64,
      "outputs": []
    },
    {
      "cell_type": "code",
      "metadata": {
        "id": "PlXF-SPhvt4N",
        "colab_type": "code",
        "colab": {
          "base_uri": "https://localhost:8080/",
          "height": 34
        },
        "outputId": "f7f608c4-4c33-4e27-bac1-0a6a88b18e0b"
      },
      "source": [
        "len(os.listdir(destination))"
      ],
      "execution_count": 67,
      "outputs": [
        {
          "output_type": "execute_result",
          "data": {
            "text/plain": [
              "336"
            ]
          },
          "metadata": {
            "tags": []
          },
          "execution_count": 67
        }
      ]
    },
    {
      "cell_type": "code",
      "metadata": {
        "id": "FSN5Wfy1xxMS",
        "colab_type": "code",
        "colab": {}
      },
      "source": [
        ""
      ],
      "execution_count": null,
      "outputs": []
    }
  ]
}