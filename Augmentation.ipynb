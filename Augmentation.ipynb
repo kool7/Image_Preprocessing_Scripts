{
 "cells": [
  {
   "cell_type": "markdown",
   "metadata": {},
   "source": [
    "# Convert labels from .xml to .txt\n",
    "\n",
    "In order to augment our images we first need to convert .xml files into .txt files. Here is the code to do that."
   ]
  },
  {
   "cell_type": "code",
   "execution_count": null,
   "metadata": {},
   "outputs": [],
   "source": [
    "# Convert to txt file for augmentation\n",
    "\n",
    "import xml.etree.ElementTree as ET\n",
    "import os\n",
    "xml_dir = 'C:/Users/kscho/Desktop/plate_xml/'#path to xml file folder\n",
    "xmls = os.listdir(xml_dir)\n",
    "all_labels = []\n",
    "for xml in xmls:\n",
    "    line = ''\n",
    "    image_name = xml.split('.')[0]+'.jpeg'\n",
    "    tree = ET.parse(xml_dir+xml)\n",
    "    line = 'C:/Users/kscho/Desktop/plate_img/'+image_name+' '  # path to image file folder\n",
    "    root = tree.getroot()\n",
    "    for objct in root.iter('object'):\n",
    "        node = objct.find('bndbox')\n",
    "        xmin = node.find('xmin').text\n",
    "        xmax = node.find('xmax').text\n",
    "        ymin = node.find('ymin').text\n",
    "        ymax = node.find('ymax').text\n",
    "        obj_name = objct.find('name').text\n",
    "        if (obj_name=='plate'):\n",
    "            line += xmin +\",\"+ ymin +\",\"+ xmax+\",\"+ ymax+\" \"+obj_name+' '\n",
    "            \n",
    "    all_labels.append(line)\n",
    "\n",
    "with open('C:/Users/kscho/Desktop/labels.txt','w') as f:   #generated txt file\n",
    "    for line in all_labels:\n",
    "        f.write(line+'\\n')"
   ]
  },
  {
   "cell_type": "markdown",
   "metadata": {},
   "source": [
    "# Open labels.txt\n",
    "\n",
    "Checking the content of .txt file. The number of files should be equal to the number of xml files."
   ]
  },
  {
   "cell_type": "code",
   "execution_count": null,
   "metadata": {},
   "outputs": [],
   "source": [
    "# printing total number of files\n",
    "\n",
    "import os\n",
    "with open('C:/Users/kscho/Desktop/labels.txt','r') as f:\n",
    "    contents = f.readlines()\n",
    "len(contents)"
   ]
  },
  {
   "cell_type": "markdown",
   "metadata": {},
   "source": [
    "# Making directory for augmented images\n",
    "\n",
    "1. Make folder **(in this case aug_img)** to store augmented images."
   ]
  },
  {
   "cell_type": "code",
   "execution_count": null,
   "metadata": {},
   "outputs": [],
   "source": [
    "image_dir = 'C:/Users/kscho/Desktop/plate_img/'#IMAGE DIR\n",
    "images = os.listdir(image_dir)\n",
    "save_dir = 'C:/Users/kscho/Desktop/aug_img/'#AUGMENT IMAGES DIR\n",
    "labels_txt = 'C:/Users/kscho/Desktop/labels.txt'#ANNOTATION TEXT DIR\n",
    "output_file= 'C:/Users/kscho/Desktop/augment.txt'#AUGMENT TEXT\n",
    "len(images)"
   ]
  },
  {
   "cell_type": "markdown",
   "metadata": {},
   "source": [
    "# Augmenting Images and saving xml files.\n",
    "\n",
    "## Steps \n",
    "\n",
    "1. change the index number in **image_name = line.split(\" \")[0].split(\"/\")[5]** according to your directory structure.\n",
    "2. Assign unique name to augmented images in **f.write(\"C:/Users/kscho/Desktop/aug_img/\"+'p7'+image_name+\" \"+cont+'\\n').**\n",
    "3. This will also create augment.txt. This will be used in next step to produce .xml files for augmented images."
   ]
  },
  {
   "cell_type": "code",
   "execution_count": null,
   "metadata": {},
   "outputs": [],
   "source": [
    "# Augmentation \n",
    "\n",
    "import imgaug as ia\n",
    "from imgaug import augmenters as iaa\n",
    "\n",
    "import cv2\n",
    "import os, shutil\n",
    "\n",
    "ia.seed(1)\n",
    "\n",
    "for line in contents:\n",
    "    line = line.replace(\"\\n\",\"\")\n",
    "    image_name = line.split(\" \")[0].split(\"/\")[5]\n",
    "    print(image_name)#image name\n",
    "    image = cv2.imread(image_dir+image_name)\n",
    "    b_boxes = line.split(\" \")[1:2]#Bounding box coordinates\n",
    "    obj=line.split(\" \")[2]#object name\n",
    "    li_class = []\n",
    "    li_ia = []\n",
    "    for box in b_boxes:\n",
    "        box = box.split(\",\")\n",
    "        xmin, ymin, xmax, ymax = float(box[0]), float(box[1]), float(box[2]), float(box[3])\n",
    "        li_ia.append(ia.BoundingBox(x1=xmin, y1=ymin, x2=xmax, y2=ymax))\n",
    "    bbs = ia.BoundingBoxesOnImage(li_ia, shape=image.shape)\n",
    "    seq = iaa.Sequential(\n",
    "    [\n",
    "#        iaa.Fliplr(1),\n",
    "#        iaa.Affine(rotate=20)\n",
    "#        iaa.AdditiveGaussianNoise(loc=0, scale=(0.0, 0.05*255), per_channel=0.5),\n",
    "#        iaa.Multiply((0.5, 1.5), per_channel=0.5),\n",
    "#        iaa.Add((-10, 10), per_channel=0.5),\n",
    "#        iaa.Affine(translate_px={\"x\": 40, \"y\": 60}, rotate=(-0.5,2.75))\n",
    "        iaa.Flipud(0.2)\n",
    "\n",
    "    ])\n",
    "    seq_det = seq.to_deterministic()\n",
    "    image_aug = seq_det.augment_images([image])[0]\n",
    "    bbs_aug = seq_det.augment_bounding_boxes([bbs])[0]\n",
    "    \n",
    "    for i in range(len(bbs.bounding_boxes)):\n",
    "        cont = \"\"\n",
    "        \n",
    "        before = bbs.bounding_boxes[i]\n",
    "        after = bbs_aug.bounding_boxes[i]\n",
    "        cont += str(int(after.x1)) +\",\"+ str(int(after.y1)) +\",\"+ \\\n",
    "                  str(int(after.x2)) +\",\"+ str(int(after.y2))+\" \"+str(obj)\n",
    "        print(image_name)\n",
    "\n",
    "        print(\"BB %d: (%.4f, %.4f, %.4f, %.4f) -> (%.4f, %.4f, %.4f, %.4f)\" % (\n",
    "            i,\n",
    "            before.x1, before.y1, before.x2, before.y2,\n",
    "            after.x1, after.y1, after.x2, after.y2)\n",
    "        )\n",
    "        print(cont)\n",
    "        \n",
    "    with open(output_file,\"a\") as f:\n",
    "        f.write(\"C:/Users/kscho/Desktop/aug_img/\"+'p7'+image_name+\" \"+cont+'\\n')#TEXT\n",
    "\n",
    "    cv2.imwrite(save_dir+'p7'+image_name,image_aug)#IMAGES"
   ]
  },
  {
   "cell_type": "markdown",
   "metadata": {},
   "source": [
    "# Creating augmented .xml file\n",
    "\n",
    "## Steps\n",
    "\n",
    "1. Change **src_dir = \"C:/Users/kscho/Desktop/aug_img/\"** add path for folder in which have generated augmented images in above step.\n",
    "2. Change the index in this line **image_name = splitted[0].split(\"/\")[5].**\n",
    "3. Change path in this line **ET.SubElement(root, \"path\").text = 'K:/Data/fashion/aug_img/'+image_name.** Add path of your augmented image folder.\n",
    "4. Change path in **tree.write(\"C:/Users/kscho/Desktop/aug_xml/\"+file_name+\".xml\").** This will store .xml files for augmented images.\n",
    "\n",
    "**NOTE** Every time you create new .xml files delete the contents in **augmented.txt**"
   ]
  },
  {
   "cell_type": "code",
   "execution_count": null,
   "metadata": {},
   "outputs": [],
   "source": [
    "labels = ! cat C:/Users/kscho/Desktop/augment.txt"
   ]
  },
  {
   "cell_type": "code",
   "execution_count": null,
   "metadata": {},
   "outputs": [],
   "source": [
    "# Converting from txt to xml\n",
    "\n",
    "src_dir = \"C:/Users/kscho/Desktop/aug_img/\"\n",
    "folder_name = \"allimages\"\n",
    "for img in labels:\n",
    "    splitted = img.split(\" \")\n",
    "    image_name = splitted[0].split(\"/\")[5]#image name\n",
    "    x=img.split(\" \")[2]#object name\n",
    "    boxes = splitted[1:-1]\n",
    "    \n",
    "    print(src_dir+image_name)\n",
    "    image = cv2.imread(src_dir+image_name)\n",
    "    print(image_name)\n",
    "    image_info = image.shape\n",
    "    print(image_info)\n",
    "    height, width, depth = image_info[0], image_info[1], image_info[2]\n",
    "    root = ET.Element(\"annotation\")\n",
    "    ET.SubElement(root, \"folder\").text = folder_name\n",
    "    ET.SubElement(root, \"filename\").text = image_name\n",
    "    ET.SubElement(root, \"path\").text = 'K:/Data/fashion/aug_img/'+image_name\n",
    "    ET.SubElement(ET.SubElement(root, \"source\"), \"database\").text = \"Unknown\"\n",
    "    size = ET.SubElement(root, \"size\")\n",
    "    ET.SubElement(size, \"width\").text = str(width)\n",
    "    ET.SubElement(size, \"height\").text = str(height)\n",
    "    ET.SubElement(size, \"depth\").text = str(depth)\n",
    "    ET.SubElement(root, \"segmented\").text = '0'\n",
    "\n",
    "    for box in boxes:\n",
    "        box = box.split(',')\n",
    "        \n",
    "        obj_name = x\n",
    "        xmin = str(int(float(box[0])))\n",
    "        ymin = str(int(float(box[1])))\n",
    "        xmax = str(int(float(box[2])))\n",
    "        ymax = str(int(float(box[3])))\n",
    "        obj = ET.SubElement(root, \"object\")\n",
    "        ET.SubElement(obj, \"name\").text = obj_name\n",
    "        ET.SubElement(obj, \"pose\").text = \"Unspecified\"\n",
    "        ET.SubElement(obj, \"truncated\").text = \"0\"\n",
    "        ET.SubElement(obj, \"difficult\").text = \"0\"\n",
    "        bndbox = ET.SubElement(obj, \"bndbox\")\n",
    "        ET.SubElement(bndbox, \"xmin\").text = xmin\n",
    "        ET.SubElement(bndbox, \"ymin\").text = ymin\n",
    "        ET.SubElement(bndbox, \"xmax\").text = xmax\n",
    "        ET.SubElement(bndbox, \"ymax\").text = ymax\n",
    "    tree = ET.ElementTree(root)\n",
    "    file_name = image_name.split('.')[0]\n",
    "    tree.write(\"C:/Users/kscho/Desktop/aug_xml/\"+file_name+\".xml\")\n",
    "    file_name = None"
   ]
  },
  {
   "cell_type": "code",
   "execution_count": null,
   "metadata": {},
   "outputs": [],
   "source": []
  }
 ],
 "metadata": {
  "kernelspec": {
   "display_name": "Python 3",
   "language": "python",
   "name": "python3"
  },
  "language_info": {
   "codemirror_mode": {
    "name": "ipython",
    "version": 3
   },
   "file_extension": ".py",
   "mimetype": "text/x-python",
   "name": "python",
   "nbconvert_exporter": "python",
   "pygments_lexer": "ipython3",
   "version": "3.7.4"
  }
 },
 "nbformat": 4,
 "nbformat_minor": 2
}
